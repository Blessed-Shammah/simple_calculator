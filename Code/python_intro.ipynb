{
 "cells": [
  {
   "cell_type": "code",
   "execution_count": null,
   "metadata": {},
   "outputs": [],
   "source": [
    "# Arithmetic Operations\n",
    "sub = 10 - 5\n",
    "add = 10 + 5\n",
    "mult = 10 * 5\n",
    "pow = 10 ** 5\n",
    "div = 10 / 5\n",
    "fdiv = 10 // 5\n",
    "rem = 10 % 5\n",
    "\n",
    "print(sub)\n",
    "print(add)\n",
    "print(mult)\n",
    "print(pow)\n",
    "print(div)\n",
    "print(fdiv)\n",
    "print(rem)"
   ]
  },
  {
   "cell_type": "code",
   "execution_count": null,
   "metadata": {},
   "outputs": [],
   "source": [
    "# Assignment Operators\n",
    "x = 10\n",
    "x += 5\n",
    "print(x)\n",
    "x -= 5\n",
    "print(x)\n",
    "x *= 5\n",
    "print(x)\n",
    "x /= 5\n",
    "print(x)\n",
    "x %= 5\n",
    "print(x)\n",
    "x = 50\n",
    "x //= 5\n",
    "print(x)\n",
    "x **= 5\n",
    "print(x)\n",
    "x &= 5\n",
    "print(x)\n",
    "x |= 5\n",
    "print(x)\n",
    "x ^= 5\n",
    "print(x)\n",
    "x >>= 5\n",
    "print(x)\n",
    "x <<= 5\n",
    "print(x)\n",
    "print(x := 5)"
   ]
  },
  {
   "cell_type": "code",
   "execution_count": null,
   "metadata": {},
   "outputs": [],
   "source": [
    "# Comparison Operators\n",
    "x == 10\n",
    "x != 10\n",
    "x > 10\n",
    "x < 10\n",
    "x >= 10\n",
    "x <= 10"
   ]
  },
  {
   "cell_type": "code",
   "execution_count": null,
   "metadata": {},
   "outputs": [],
   "source": [
    "# Logical Operators\n",
    "x, y = 10, 5\n",
    "print(x == 10 and y == 5)\n",
    "\n",
    "print(x == 10 or y == 5)\n",
    "\n",
    "# not operator\n",
    "x = 10\n",
    "print(not x == 10)"
   ]
  },
  {
   "cell_type": "markdown",
   "metadata": {},
   "source": [
    "Weekly Code Challenge!"
   ]
  },
  {
   "cell_type": "code",
   "execution_count": null,
   "metadata": {},
   "outputs": [],
   "source": [
    "# Personalized Greeting App\n",
    "'''\n",
    "input: name, color\n",
    "output: personalized greeting\n",
    "e.g. Hello, John! Your favorite color is blue.\n",
    "'''\n",
    "\n",
    "name = input(\"Enter your name: \")\n",
    "color = input(\"Enter your favorite color: \")\n",
    "\n",
    "print(f\"Hello, {name}! Your favorite color is {color}.\")"
   ]
  },
  {
   "cell_type": "code",
   "execution_count": null,
   "metadata": {},
   "outputs": [],
   "source": [
    "# Simple Quiz Game\n",
    "\n",
    "import random\n",
    "\n",
    "# Quiz questions and answers\n",
    "questions = [\n",
    "    {\n",
    "        \"question\": \"What is the result of 10 + 5?\",\n",
    "        \"choices\": [\"10\", \"15\", \"20\", \"25\"],\n",
    "        \"correct\": 1  # Using add variable which is 15\n",
    "    },\n",
    "    {\n",
    "        \"question\": \"What operator gives us 2.0 when we divide 10 by 5?\",\n",
    "        \"choices\": [\"//\", \"/\", \"%\", \"**\"],\n",
    "        \"correct\": 1  # Using div variable which is 2.0\n",
    "    },\n",
    "    {\n",
    "        \"question\": \"What is 10 * 5?\",\n",
    "        \"choices\": [\"25\", \"40\", \"50\", \"60\"],\n",
    "        \"correct\": 2  # Using mult variable which is 50\n",
    "    }\n",
    "]\n",
    "\n",
    "score = 0\n",
    "print(f\"Welcome to the Python Quiz, {name}!\")\n",
    "\n",
    "for i, q in enumerate(questions, 1):\n",
    "    print(f\"\\nQuestion {i}: {q['question']}\")\n",
    "    for idx, choice in enumerate(q['choices']):\n",
    "        print(f\"{idx + 1}. {choice}\")\n",
    "    \n",
    "    answer = int(input(\"\\nYour answer (1-4): \")) - 1\n",
    "    if answer == q['correct']:\n",
    "        print(f\"Correct! Your favorite color {color} brings you luck!\")\n",
    "        score += 1\n",
    "    else:\n",
    "        print(f\"Sorry, that's wrong. The correct answer was: {q['choices'][q['correct']]}\")\n",
    "\n",
    "print(f\"\\nQuiz completed! Final score: {score}/{len(questions)}\")"
   ]
  },
  {
   "cell_type": "code",
   "execution_count": null,
   "metadata": {},
   "outputs": [],
   "source": [
    "# Random Joke Generator 🤣\n",
    "import random\n",
    "\n",
    "jokes = [\n",
    "    f\"Why do Python programmers love studying? Because they want their variables like {name} to have good 'class'! 🎓\",\n",
    "    f\"What's a {color} snake's favorite subject? Hisstory! 🐍\",\n",
    "    f\"How many programmers does it take to change a light bulb? {pow} - they're too busy debugging! 💡\",\n",
    "    f\"Why do programmers prefer dark mode? Because the {color} light attracts too many bugs! 🐛\",\n",
    "    \"What do you call a snake that's exactly 3.14 meters long? A Pi-thon! 🥧\",\n",
    "    f\"Why was {mult} such a lonely number? It was always trying to 'divide' people! ➗\",\n",
    "    f\"What did {add} say to {sub}? You complete me! ❤️\",\n",
    "    \"What's a programmer's favorite snack? Cookies! 🍪\",\n",
    "    f\"Why did {name} get kicked out of school? Because they kept dropping tables! 📊\"\n",
    "]\n",
    "\n",
    "print(random.choice(jokes))"
   ]
  },
  {
   "cell_type": "code",
   "execution_count": null,
   "metadata": {},
   "outputs": [],
   "source": [
    "# Delclare\n",
    "print(5 + 3 * 2)\n",
    "type(5)"
   ]
  },
  {
   "cell_type": "code",
   "execution_count": null,
   "metadata": {},
   "outputs": [
    {
     "name": "stdout",
     "output_type": "stream",
     "text": [
      "3 + 3 = 6\n"
     ]
    }
   ],
   "source": [
    "# Basic Python Calculator made with ❤️ by Blessed\n",
    "# Get user inputs\n",
    "num1 = int(input(\"Enter the first number: \")) # First number\n",
    "num2 = int(input(\"Enter the second number: \")) # Second number\n",
    "operation = input(\"Enter the operation (+, -, *, /): \") # Operation\n",
    "\n",
    "# Perform calculation based on operation\n",
    "if operation == '+':\n",
    "    result = num1 + num2\n",
    "    print(f\"{num1} + {num2} = {result}\")\n",
    "elif operation == '-':\n",
    "    result = num1 - num2\n",
    "    print(f\"{num1} - {num2} = {result}\")\n",
    "elif operation == '*':\n",
    "    result = num1 * num2\n",
    "    print(f\"{num1} * {num2} = {result}\")\n",
    "elif operation == '/':\n",
    "    if num2 != 0:  # Check for division by zero\n",
    "        result = num1 / num2\n",
    "        print(f\"{num1} / {num2} = {result}\")\n",
    "    else:\n",
    "        print(\"Error: Cannot divide by zero\")\n",
    "else:\n",
    "    print(\"Invalid operation. Please use +, -, *, or /\")"
   ]
  },
  {
   "cell_type": "code",
   "execution_count": null,
   "metadata": {},
   "outputs": [],
   "source": []
  }
 ],
 "metadata": {
  "kernelspec": {
   "display_name": "Python 3",
   "language": "python",
   "name": "python3"
  },
  "language_info": {
   "codemirror_mode": {
    "name": "ipython",
    "version": 3
   },
   "file_extension": ".py",
   "mimetype": "text/x-python",
   "name": "python",
   "nbconvert_exporter": "python",
   "pygments_lexer": "ipython3",
   "version": "3.13.1"
  }
 },
 "nbformat": 4,
 "nbformat_minor": 2
}
