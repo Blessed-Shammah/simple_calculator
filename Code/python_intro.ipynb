{
 "cells": [
  {
   "cell_type": "code",
   "execution_count": 1,
   "metadata": {},
   "outputs": [
    {
     "name": "stdout",
     "output_type": "stream",
     "text": [
      "5\n",
      "15\n",
      "50\n",
      "100000\n",
      "2.0\n",
      "2\n",
      "0\n"
     ]
    }
   ],
   "source": [
    "# Arithmetic Operations\n",
    "sub = 10 - 5\n",
    "add = 10 + 5\n",
    "mult = 10 * 5\n",
    "pow = 10 ** 5\n",
    "div = 10 / 5\n",
    "fdiv = 10 // 5\n",
    "rem = 10 % 5\n",
    "\n",
    "print(sub)\n",
    "print(add)\n",
    "print(mult)\n",
    "print(pow)\n",
    "print(div)\n",
    "print(fdiv)\n",
    "print(rem)"
   ]
  },
  {
   "cell_type": "code",
   "execution_count": 16,
   "metadata": {},
   "outputs": [
    {
     "name": "stdout",
     "output_type": "stream",
     "text": [
      "15\n",
      "10\n",
      "50\n",
      "10.0\n",
      "0.0\n",
      "10\n",
      "100000\n",
      "0\n",
      "5\n",
      "0\n",
      "0\n",
      "0\n",
      "5\n"
     ]
    }
   ],
   "source": [
    "# Assignment Operators\n",
    "x = 10\n",
    "x += 5\n",
    "print(x)\n",
    "x -= 5\n",
    "print(x)\n",
    "x *= 5\n",
    "print(x)\n",
    "x /= 5\n",
    "print(x)\n",
    "x %= 5\n",
    "print(x)\n",
    "x = 50\n",
    "x //= 5\n",
    "print(x)\n",
    "x **= 5\n",
    "print(x)\n",
    "x &= 5\n",
    "print(x)\n",
    "x |= 5\n",
    "print(x)\n",
    "x ^= 5\n",
    "print(x)\n",
    "x >>= 5\n",
    "print(x)\n",
    "x <<= 5\n",
    "print(x)\n",
    "print(x := 5)"
   ]
  },
  {
   "cell_type": "code",
   "execution_count": 18,
   "metadata": {},
   "outputs": [
    {
     "data": {
      "text/plain": [
       "True"
      ]
     },
     "execution_count": 18,
     "metadata": {},
     "output_type": "execute_result"
    }
   ],
   "source": [
    "# Comparison Operators\n",
    "x == 10\n",
    "x != 10\n",
    "x > 10\n",
    "x < 10\n",
    "x >= 10\n",
    "x <= 10"
   ]
  },
  {
   "cell_type": "code",
   "execution_count": 20,
   "metadata": {},
   "outputs": [
    {
     "name": "stdout",
     "output_type": "stream",
     "text": [
      "True\n",
      "True\n",
      "False\n"
     ]
    }
   ],
   "source": [
    "# Logical Operators\n",
    "x, y = 10, 5\n",
    "print(x == 10 and y == 5)\n",
    "\n",
    "print(x == 10 or y == 5)\n",
    "\n",
    "# not operator\n",
    "x = 10\n",
    "print(not x == 10)"
   ]
  },
  {
   "cell_type": "markdown",
   "metadata": {},
   "source": [
    "Weekly Code Challenge!"
   ]
  },
  {
   "cell_type": "code",
   "execution_count": 21,
   "metadata": {},
   "outputs": [
    {
     "name": "stdout",
     "output_type": "stream",
     "text": [
      "Hello, Blessed! Your favorite color is Red.\n"
     ]
    }
   ],
   "source": [
    "# Personalized Greeting App\n",
    "'''\n",
    "input: name, color\n",
    "output: personalized greeting\n",
    "e.g. Hello, John! Your favorite color is blue.\n",
    "'''\n",
    "\n",
    "name = input(\"Enter your name: \")\n",
    "color = input(\"Enter your favorite color: \")\n",
    "\n",
    "print(f\"Hello, {name}! Your favorite color is {color}.\")"
   ]
  },
  {
   "cell_type": "code",
   "execution_count": 22,
   "metadata": {},
   "outputs": [
    {
     "name": "stdout",
     "output_type": "stream",
     "text": [
      "Welcome to the Python Quiz, Blessed!\n",
      "\n",
      "Question 1: What is the result of 10 + 5?\n",
      "1. 10\n",
      "2. 15\n",
      "3. 20\n",
      "4. 25\n",
      "Correct! Your favorite color Red brings you luck!\n",
      "\n",
      "Question 2: What operator gives us 2.0 when we divide 10 by 5?\n",
      "1. //\n",
      "2. /\n",
      "3. %\n",
      "4. **\n",
      "Correct! Your favorite color Red brings you luck!\n",
      "\n",
      "Question 3: What is 10 * 5?\n",
      "1. 25\n",
      "2. 40\n",
      "3. 50\n",
      "4. 60\n",
      "Correct! Your favorite color Red brings you luck!\n",
      "\n",
      "Quiz completed! Final score: 3/3\n"
     ]
    }
   ],
   "source": [
    "# Simple Quiz Game\n",
    "\n",
    "import random\n",
    "\n",
    "# Quiz questions and answers\n",
    "questions = [\n",
    "    {\n",
    "        \"question\": \"What is the result of 10 + 5?\",\n",
    "        \"choices\": [\"10\", \"15\", \"20\", \"25\"],\n",
    "        \"correct\": 1  # Using add variable which is 15\n",
    "    },\n",
    "    {\n",
    "        \"question\": \"What operator gives us 2.0 when we divide 10 by 5?\",\n",
    "        \"choices\": [\"//\", \"/\", \"%\", \"**\"],\n",
    "        \"correct\": 1  # Using div variable which is 2.0\n",
    "    },\n",
    "    {\n",
    "        \"question\": \"What is 10 * 5?\",\n",
    "        \"choices\": [\"25\", \"40\", \"50\", \"60\"],\n",
    "        \"correct\": 2  # Using mult variable which is 50\n",
    "    }\n",
    "]\n",
    "\n",
    "score = 0\n",
    "print(f\"Welcome to the Python Quiz, {name}!\")\n",
    "\n",
    "for i, q in enumerate(questions, 1):\n",
    "    print(f\"\\nQuestion {i}: {q['question']}\")\n",
    "    for idx, choice in enumerate(q['choices']):\n",
    "        print(f\"{idx + 1}. {choice}\")\n",
    "    \n",
    "    answer = int(input(\"\\nYour answer (1-4): \")) - 1\n",
    "    if answer == q['correct']:\n",
    "        print(f\"Correct! Your favorite color {color} brings you luck!\")\n",
    "        score += 1\n",
    "    else:\n",
    "        print(f\"Sorry, that's wrong. The correct answer was: {q['choices'][q['correct']]}\")\n",
    "\n",
    "print(f\"\\nQuiz completed! Final score: {score}/{len(questions)}\")"
   ]
  },
  {
   "cell_type": "code",
   "execution_count": 25,
   "metadata": {},
   "outputs": [
    {
     "name": "stdout",
     "output_type": "stream",
     "text": [
      "What's a programmer's favorite snack? Cookies! 🍪\n"
     ]
    }
   ],
   "source": [
    "# Random Joke Generator 🤣\n",
    "import random\n",
    "\n",
    "jokes = [\n",
    "    f\"Why do Python programmers love studying? Because they want their variables like {name} to have good 'class'! 🎓\",\n",
    "    f\"What's a {color} snake's favorite subject? Hisstory! 🐍\",\n",
    "    f\"How many programmers does it take to change a light bulb? {pow} - they're too busy debugging! 💡\",\n",
    "    f\"Why do programmers prefer dark mode? Because the {color} light attracts too many bugs! 🐛\",\n",
    "    \"What do you call a snake that's exactly 3.14 meters long? A Pi-thon! 🥧\",\n",
    "    f\"Why was {mult} such a lonely number? It was always trying to 'divide' people! ➗\",\n",
    "    f\"What did {add} say to {sub}? You complete me! ❤️\",\n",
    "    \"What's a programmer's favorite snack? Cookies! 🍪\",\n",
    "    f\"Why did {name} get kicked out of school? Because they kept dropping tables! 📊\"\n",
    "]\n",
    "\n",
    "print(random.choice(jokes))"
   ]
  },
  {
   "cell_type": "code",
   "execution_count": 30,
   "metadata": {},
   "outputs": [
    {
     "name": "stdout",
     "output_type": "stream",
     "text": [
      "11\n"
     ]
    },
    {
     "data": {
      "text/plain": [
       "int"
      ]
     },
     "execution_count": 30,
     "metadata": {},
     "output_type": "execute_result"
    }
   ],
   "source": [
    "# Delclare\n",
    "print(5 + 3 * 2)\n",
    "type(5)"
   ]
  },
  {
   "cell_type": "code",
   "execution_count": null,
   "metadata": {},
   "outputs": [],
   "source": []
  },
  {
   "cell_type": "code",
   "execution_count": 32,
   "metadata": {},
   "outputs": [
    {
     "ename": "TypeError",
     "evalue": "Calc.add() missing 1 required positional argument: 'self'",
     "output_type": "error",
     "traceback": [
      "\u001b[1;31m---------------------------------------------------------------------------\u001b[0m",
      "\u001b[1;31mTypeError\u001b[0m                                 Traceback (most recent call last)",
      "Cell \u001b[1;32mIn[32], line 32\u001b[0m\n\u001b[0;32m     29\u001b[0m operation \u001b[38;5;241m=\u001b[39m \u001b[38;5;28minput\u001b[39m(\u001b[38;5;124m\"\u001b[39m\u001b[38;5;124mEnter the operation (+, -, *, /): \u001b[39m\u001b[38;5;124m\"\u001b[39m)\n\u001b[0;32m     31\u001b[0m Calculator: Calc \u001b[38;5;241m=\u001b[39m Calc(x, y, operation)\n\u001b[1;32m---> 32\u001b[0m \u001b[43mCalc\u001b[49m\u001b[38;5;241;43m.\u001b[39;49m\u001b[43madd\u001b[49m\u001b[43m(\u001b[49m\u001b[43m)\u001b[49m\n",
      "\u001b[1;31mTypeError\u001b[0m: Calc.add() missing 1 required positional argument: 'self'"
     ]
    }
   ],
   "source": [
    "# Basic Python Calculator\n",
    "class Calc:\n",
    "    def __init__(self, x: int, y: int, operator: str) -> None:\n",
    "        self.x = x\n",
    "        self.y = y\n",
    "        self.operator = operator\n",
    "\n",
    "\n",
    "    # Add\n",
    "    def add(self) -> float:\n",
    "        print(x,operation,y,'=', self.x + self.y)\n",
    "    \n",
    "    # Subtract\n",
    "    def sub(self) -> int:\n",
    "        return self.x - self.y\n",
    "    \n",
    "    # Multiply\n",
    "    def mult(self) -> int:\n",
    "        return self.x * self.y\n",
    "    \n",
    "    # Divide\n",
    "    def div(self) -> float:\n",
    "        return self.x / self.y\n",
    "    \n",
    "\n",
    "\n",
    "x = int(input(\"Enter the first number: \"))\n",
    "y = int(input(\"Enter the second number: \"))\n",
    "operation = input(\"Enter the operation (+, -, *, /): \")\n",
    "\n",
    "Calculator: Calc = Calc(x, y, operation)\n",
    "Calc.add()\n"
   ]
  }
 ],
 "metadata": {
  "kernelspec": {
   "display_name": "Python 3",
   "language": "python",
   "name": "python3"
  },
  "language_info": {
   "codemirror_mode": {
    "name": "ipython",
    "version": 3
   },
   "file_extension": ".py",
   "mimetype": "text/x-python",
   "name": "python",
   "nbconvert_exporter": "python",
   "pygments_lexer": "ipython3",
   "version": "3.13.1"
  }
 },
 "nbformat": 4,
 "nbformat_minor": 2
}
