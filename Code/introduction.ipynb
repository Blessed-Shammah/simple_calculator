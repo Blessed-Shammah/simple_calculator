{
 "cells": [
  {
   "cell_type": "code",
   "execution_count": 2,
   "metadata": {},
   "outputs": [
    {
     "name": "stdout",
     "output_type": "stream",
     "text": [
      "Hello, World! 🌍\n"
     ]
    }
   ],
   "source": [
    "print(\"Hello, World! 🌍\")"
   ]
  },
  {
   "cell_type": "code",
   "execution_count": 3,
   "metadata": {},
   "outputs": [
    {
     "name": "stdout",
     "output_type": "stream",
     "text": [
      "Sum: 3.0\n",
      "Difference: -1.0\n",
      "Product: 2.0\n",
      "Quotient: 0.5\n"
     ]
    }
   ],
   "source": [
    "# Simple calculator that adds, subtracts, multiplies\n",
    "# and divides two numbers\n",
    "\n",
    "# Get user input for first number\n",
    "num1 = float(input(\"Enter First Number: \"))\n",
    "\n",
    "# Get user input for second number\n",
    "num2 = float(input(\"Enter Second Number: \"))\n",
    "\n",
    "# Add the two numbers\n",
    "sum = num1 + num2\n",
    "\n",
    "# Subtract the two numbers\n",
    "difference = num1 - num2\n",
    "\n",
    "# Multiply the two numbers\n",
    "product = num1 * num2\n",
    "\n",
    "# Divide the two numbers\n",
    "quotient = num1 / num2\n",
    "\n",
    "# Print the results\n",
    "print(f\"Sum: {sum}\")\n",
    "print(f\"Difference: {difference}\")\n",
    "print(f\"Product: {product}\")\n",
    "print(f\"Quotient: {quotient}\")"
   ]
  },
  {
   "cell_type": "code",
   "execution_count": null,
   "metadata": {},
   "outputs": [],
   "source": [
    "# Data types\n",
    "# String, Boolean, Integer, Float\n",
    "\n",
    "# Boolean\n",
    "Yes = True\n",
    "No = False\n",
    "\n",
    "# Integer\n",
    "num = 1\n",
    "\n",
    "# Float\n",
    "num1 = 1.0\n",
    "\n",
    "# String\n",
    "greeting = \"Hello, World!\"\n",
    "\n",
    "# List\n",
    "numbers = [1, 2, 3, 4, 5]\n",
    "\n",
    "print(\"The sum of 1 and 2 is\", 1 + 2)\n",
    "\n",
    "# Variables\n",
    "# Variables are used to store data in a program\n",
    "# They are declared using the = operator\n",
    "# They can be of different data types\n"
   ]
  },
  {
   "cell_type": "code",
   "execution_count": 1,
   "metadata": {},
   "outputs": [
    {
     "name": "stdout",
     "output_type": "stream",
     "text": [
      "It is not hot\n"
     ]
    }
   ],
   "source": [
    "# Control flow if -else\n",
    "temp = 30\n",
    "\n",
    "if temp > 30:\n",
    "    print(\"It is hot\")\n",
    "else:\n",
    "    print(\"It is not hot\")"
   ]
  },
  {
   "cell_type": "code",
   "execution_count": 1,
   "metadata": {},
   "outputs": [
    {
     "name": "stdout",
     "output_type": "stream",
     "text": [
      "Odd\n"
     ]
    }
   ],
   "source": [
    "# detetct if number is odd or even\n",
    "\n",
    "def detector(num):\n",
    "    if num % 2 == 0:\n",
    "        print(\"Even\")\n",
    "    else:\n",
    "        print(\"Odd\")\n",
    "\n",
    "detector(5)"
   ]
  }
 ],
 "metadata": {
  "kernelspec": {
   "display_name": "Python 3",
   "language": "python",
   "name": "python3"
  },
  "language_info": {
   "codemirror_mode": {
    "name": "ipython",
    "version": 3
   },
   "file_extension": ".py",
   "mimetype": "text/x-python",
   "name": "python",
   "nbconvert_exporter": "python",
   "pygments_lexer": "ipython3",
   "version": "3.13.1"
  }
 },
 "nbformat": 4,
 "nbformat_minor": 2
}
