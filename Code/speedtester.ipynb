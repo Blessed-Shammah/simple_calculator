{
 "cells": [
  {
   "cell_type": "code",
   "execution_count": null,
   "metadata": {},
   "outputs": [
    {
     "name": "stderr",
     "output_type": "stream",
     "text": [
      "C:\\Users\\Blessed\\AppData\\Roaming\\Python\\Python313\\site-packages\\speedtest_cli.py:34: UserWarning: The file speedtest_cli.py has been deprecated in favor of speedtest.py\n",
      "and is available for download at:\n",
      "\n",
      "https://raw.githubusercontent.com/sivel/speedtest-cli/master/speedtest.py\n",
      "  warnings.warn(DEPRECATED_MSG, UserWarning)\n"
     ]
    },
    {
     "ename": "ImportError",
     "evalue": "cannot import name 'Speedtest' from 'speedtest_cli' (C:\\Users\\Blessed\\AppData\\Roaming\\Python\\Python313\\site-packages\\speedtest_cli.py)",
     "output_type": "error",
     "traceback": [
      "\u001b[1;31m---------------------------------------------------------------------------\u001b[0m",
      "\u001b[1;31mImportError\u001b[0m                               Traceback (most recent call last)",
      "Cell \u001b[1;32mIn[6], line 1\u001b[0m\n\u001b[1;32m----> 1\u001b[0m \u001b[38;5;28;01mfrom\u001b[39;00m\u001b[38;5;250m \u001b[39m\u001b[38;5;21;01mspeedtest_cli\u001b[39;00m\u001b[38;5;250m \u001b[39m\u001b[38;5;28;01mimport\u001b[39;00m Speedtest\n\u001b[0;32m      2\u001b[0m \u001b[38;5;28;01mimport\u001b[39;00m\u001b[38;5;250m \u001b[39m\u001b[38;5;21;01msys\u001b[39;00m\n\u001b[0;32m      3\u001b[0m \u001b[38;5;28;01mfrom\u001b[39;00m\u001b[38;5;250m \u001b[39m\u001b[38;5;21;01mdatetime\u001b[39;00m\u001b[38;5;250m \u001b[39m\u001b[38;5;28;01mimport\u001b[39;00m datetime\n",
      "\u001b[1;31mImportError\u001b[0m: cannot import name 'Speedtest' from 'speedtest_cli' (C:\\Users\\Blessed\\AppData\\Roaming\\Python\\Python313\\site-packages\\speedtest_cli.py)"
     ]
    }
   ],
   "source": [
    "import speedtest\n",
    "import sys\n",
    "from datetime import datetime\n",
    "\n",
    "def run_speedtest():\n",
    "    try:\n",
    "        print(f\"Starting speed test at {datetime.now().strftime('%Y-%m-%d %H:%M:%S')}\")\n",
    "        st = speedtest.Speedtest()\n",
    "        \n",
    "        print(\"\\nFinding best server...\")\n",
    "        st.get_best_server()\n",
    "        \n",
    "        print(\"\\nTesting download speed...\")\n",
    "        download_speed = st.download() / 1_000_000  # Convert to Mbps\n",
    "        \n",
    "        print(\"Testing upload speed...\")\n",
    "        upload_speed = st.upload() / 1_000_000  # Convert to Mbps\n",
    "        \n",
    "        ping = st.results.ping\n",
    "        \n",
    "        print(\"\\nResults:\")\n",
    "        print(\"-\" * 40)\n",
    "        print(f\"Download Speed: {download_speed:.2f} Mbps\")\n",
    "        print(f\"Upload Speed: {upload_speed:.2f} Mbps\")\n",
    "        print(f\"Ping: {ping:.2f} ms\")\n",
    "        print(\"-\" * 40)\n",
    "        \n",
    "        return {\n",
    "            'download': download_speed,\n",
    "            'upload': upload_speed,\n",
    "            'ping': ping\n",
    "        }\n",
    "        \n",
    "    except Exception as e:\n",
    "        print(f\"An error occurred: {str(e)}\")\n",
    "        return None\n",
    "\n",
    "if __name__ == \"__main__\":\n",
    "    run_speedtest()"
   ]
  }
 ],
 "metadata": {
  "kernelspec": {
   "display_name": "Python 3",
   "language": "python",
   "name": "python3"
  },
  "language_info": {
   "codemirror_mode": {
    "name": "ipython",
    "version": 3
   },
   "file_extension": ".py",
   "mimetype": "text/x-python",
   "name": "python",
   "nbconvert_exporter": "python",
   "pygments_lexer": "ipython3",
   "version": "3.13.1"
  }
 },
 "nbformat": 4,
 "nbformat_minor": 2
}
